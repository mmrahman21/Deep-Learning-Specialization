{
 "cells": [
  {
   "cell_type": "code",
   "execution_count": 30,
   "id": "external-latest",
   "metadata": {},
   "outputs": [],
   "source": [
    "import numpy as np\n",
    "\n",
    "a = np.array([1, 2, 3,4])"
   ]
  },
  {
   "cell_type": "code",
   "execution_count": 31,
   "id": "wrapped-stand",
   "metadata": {},
   "outputs": [
    {
     "name": "stdout",
     "output_type": "stream",
     "text": [
      "[1 2 3 4]\n"
     ]
    }
   ],
   "source": [
    "print(a)\n"
   ]
  },
  {
   "cell_type": "code",
   "execution_count": 32,
   "id": "equipped-realtor",
   "metadata": {},
   "outputs": [
    {
     "name": "stdout",
     "output_type": "stream",
     "text": [
      "250059.4856455082\n",
      "Vectorized version:1.2791156768798828 ms\n",
      "250059.48564551305\n",
      "For loop version:472.93686866760254 ms\n"
     ]
    }
   ],
   "source": [
    "import time\n",
    "\n",
    "a = np.random.rand(1000000)\n",
    "b = np.random.rand(1000000)\n",
    "\n",
    "tic = time.time()\n",
    "\n",
    "c = np.dot(a,b)\n",
    "\n",
    "toc = time.time()\n",
    "\n",
    "print(c)\n",
    "print(\"Vectorized version:\"+str(1000*(toc - tic))+\" ms\")\n",
    "\n",
    "\n",
    "c = 0 \n",
    "\n",
    "tic = time.time()\n",
    "\n",
    "for i in range(1000000):\n",
    "    c += a[i]*b[i]\n",
    "    \n",
    "toc = time.time()\n",
    "print(c)\n",
    "print(\"For loop version:\"+str(1000*(toc - tic))+\" ms\")\n"
   ]
  },
  {
   "cell_type": "markdown",
   "id": "curious-printer",
   "metadata": {},
   "source": [
    "# Broadcasting"
   ]
  },
  {
   "cell_type": "code",
   "execution_count": 33,
   "id": "smooth-begin",
   "metadata": {},
   "outputs": [
    {
     "name": "stdout",
     "output_type": "stream",
     "text": [
      "[[ 56   0  23  16]\n",
      " [213 234  16  19]\n",
      " [ 12 123 231  54]]\n"
     ]
    }
   ],
   "source": [
    "A = np.array([[56, 0, 23, 16],\n",
    "             [213, 234, 16, 19], \n",
    "             [12, 123, 231, 54]])\n",
    "\n",
    "print(A)"
   ]
  },
  {
   "cell_type": "code",
   "execution_count": 34,
   "id": "expressed-palace",
   "metadata": {},
   "outputs": [
    {
     "name": "stdout",
     "output_type": "stream",
     "text": [
      "[281 357 270  89]\n",
      "[[19.92882562  0.          8.51851852 17.97752809]\n",
      " [75.80071174 65.54621849  5.92592593 21.34831461]\n",
      " [ 4.27046263 34.45378151 85.55555556 60.6741573 ]]\n"
     ]
    }
   ],
   "source": [
    "cal = A.sum(axis=0)\n",
    "print(cal)\n",
    "percentage = 100*A/cal.reshape(1,4)\n",
    "print(percentage)"
   ]
  },
  {
   "cell_type": "markdown",
   "id": "exotic-amendment",
   "metadata": {},
   "source": [
    "# A Simple Note on Numpy"
   ]
  },
  {
   "cell_type": "code",
   "execution_count": 35,
   "id": "aggregate-classification",
   "metadata": {},
   "outputs": [
    {
     "name": "stdout",
     "output_type": "stream",
     "text": [
      "[0.69460196 0.74499365 0.79375358 0.18471074 0.35835508]\n",
      "[0.69460196 0.74499365 0.79375358 0.18471074 0.35835508]\n",
      "(5,)\n",
      "1.83006857952227\n",
      "1.83006857952227\n",
      "[[0.12661264]\n",
      " [0.05987095]\n",
      " [0.99068601]\n",
      " [0.35892121]\n",
      " [0.78290647]]\n",
      "[[0.12661264 0.05987095 0.99068601 0.35892121 0.78290647]]\n",
      "[[0.25322527 0.18648359 1.11729864 0.48553385 0.90951911]\n",
      " [0.18648359 0.1197419  1.05055696 0.41879217 0.84277743]\n",
      " [1.11729864 1.05055696 1.98137202 1.34960722 1.77359248]\n",
      " [0.48553385 0.41879217 1.34960722 0.71784243 1.14182769]\n",
      " [0.90951911 0.84277743 1.77359248 1.14182769 1.56581295]]\n"
     ]
    }
   ],
   "source": [
    "import numpy as np\n",
    "\n",
    "a = np.random.rand(5)\n",
    "print(a)\n",
    "print(a.T)\n",
    "print(a.shape)\n",
    "\n",
    "b = np.dot(a, a.T)\n",
    "print(b)\n",
    "c = np.dot(a, a)\n",
    "print(c)\n",
    "\n",
    "# Use this instead to be more specific\n",
    "\n",
    "v = np.random.rand(5, 1)\n",
    "print(v)\n",
    "print(v.T)\n",
    "print(v + v.T)"
   ]
  },
  {
   "cell_type": "code",
   "execution_count": 36,
   "id": "lyric-mileage",
   "metadata": {},
   "outputs": [
    {
     "name": "stdout",
     "output_type": "stream",
     "text": [
      "(3, 1)\n",
      "[[2 3 4]\n",
      " [3 4 5]\n",
      " [4 5 6]]\n"
     ]
    }
   ],
   "source": [
    "A = np.array([[1], [2], [3]])\n",
    "print(A.shape)\n",
    "\n",
    "print(A + A.T)"
   ]
  },
  {
   "cell_type": "code",
   "execution_count": 6,
   "id": "mental-sphere",
   "metadata": {},
   "outputs": [
    {
     "name": "stdout",
     "output_type": "stream",
     "text": [
      "[[ 0.29902593  2.49533551  1.35709951]\n",
      " [ 2.05058485 -0.08294026 -0.72962544]]\n",
      "(2, 3)\n"
     ]
    }
   ],
   "source": [
    "import numpy as np\n",
    "\n",
    "a = np.random.randn(2, 3)\n",
    "b = np.random.randn(2, 1)\n",
    "\n",
    "c = a+b\n",
    "print(c)\n",
    "print(c.shape)"
   ]
  },
  {
   "cell_type": "code",
   "execution_count": 8,
   "id": "appropriate-island",
   "metadata": {},
   "outputs": [
    {
     "name": "stdout",
     "output_type": "stream",
     "text": [
      "(12288, 45)\n"
     ]
    }
   ],
   "source": [
    "a = np.random.randn(12288, 150) # a.shape = (12288, 150)\n",
    "b = np.random.randn(150, 45) # b.shape = (150, 45)\n",
    "c = np.dot(a,b)\n",
    "print(c.shape)"
   ]
  },
  {
   "cell_type": "code",
   "execution_count": 16,
   "id": "formed-alpha",
   "metadata": {},
   "outputs": [
    {
     "name": "stdout",
     "output_type": "stream",
     "text": [
      "[[ 0.14493692 -2.45215172 -0.82595302  1.07954215]\n",
      " [ 0.62980243 -0.17792951 -0.13380626 -0.25656461]\n",
      " [-0.33085595 -1.52885212  0.715218   -1.44958667]]\n",
      "[[-1.46485038]\n",
      " [-0.27427906]\n",
      " [ 0.26195903]\n",
      " [-0.23663439]]\n",
      "[[-1.31991345 -2.72643079 -0.56399398  0.84290775]\n",
      " [-0.83504795 -0.45220858  0.12815277 -0.493199  ]\n",
      " [-1.79570633 -1.80313119  0.97717703 -1.68622107]]\n"
     ]
    }
   ],
   "source": [
    "a = np.random.randn(3,4)\n",
    "b = np.random.randn(4,1)\n",
    "c = np.random.randn(3,4)\n",
    "for i in range(3):\n",
    "    for j in range(4):\n",
    "        c[i][j] = a[i][j] + b[j]\n",
    "        \n",
    "print(a)\n",
    "print(b)\n",
    "print(c)"
   ]
  },
  {
   "cell_type": "code",
   "execution_count": 18,
   "id": "solar-damage",
   "metadata": {},
   "outputs": [],
   "source": [
    "# a.shape = (3,4)\n",
    "# b.shape = (4,1)\n",
    "\n",
    "for i in range(3):\n",
    "    for j in range(4):\n",
    "        c[i][j] = a[i][j] + b[j]\n",
    "\n",
    "# How we can vectorize this? \n",
    "c = a + b\n",
    "c = a.T + b.T\n",
    "c = a.T + b\n",
    "c = a + b.T\n"
   ]
  },
  {
   "cell_type": "code",
   "execution_count": null,
   "id": "active-musical",
   "metadata": {},
   "outputs": [],
   "source": []
  }
 ],
 "metadata": {
  "kernelspec": {
   "display_name": "Python 3",
   "language": "python",
   "name": "python3"
  },
  "language_info": {
   "codemirror_mode": {
    "name": "ipython",
    "version": 3
   },
   "file_extension": ".py",
   "mimetype": "text/x-python",
   "name": "python",
   "nbconvert_exporter": "python",
   "pygments_lexer": "ipython3",
   "version": "3.7.9"
  }
 },
 "nbformat": 4,
 "nbformat_minor": 5
}
